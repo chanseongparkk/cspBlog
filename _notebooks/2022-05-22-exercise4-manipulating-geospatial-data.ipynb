{
 "cells": [
  {
   "cell_type": "markdown",
   "metadata": {},
   "source": [
    "# \"geopandas exercise4\"\n",
    "> \"출처 : https://www.kaggle.com/learn/geospatial-analysis\"\n",
    "\n",
    "- toc: true\n",
    "- branch: master\n",
    "- badges: true\n",
    "- comments: true\n",
    "- author: Chanseong Park\n",
    "- categories: [colaboratory, python]\n"
   ]
  },
  {
   "cell_type": "markdown",
   "metadata": {},
   "source": [
    "**This notebook is an exercise in the [Geospatial Analysis](https://www.kaggle.com/learn/geospatial-analysis) course.  You can reference the tutorial at [this link](https://www.kaggle.com/alexisbcook/manipulating-geospatial-data).**\n",
    "\n",
    "---\n"
   ]
  },
  {
   "cell_type": "markdown",
   "metadata": {},
   "source": [
    "# Introduction\n",
    "\n",
    "You are a Starbucks big data analyst ([that’s a real job!](https://www.forbes.com/sites/bernardmarr/2018/05/28/starbucks-using-big-data-analytics-and-artificial-intelligence-to-boost-performance/#130c7d765cdc)) looking to find the next store into a [Starbucks Reserve Roastery](https://www.businessinsider.com/starbucks-reserve-roastery-compared-regular-starbucks-2018-12#also-on-the-first-floor-was-the-main-coffee-bar-five-hourglass-like-units-hold-the-freshly-roasted-coffee-beans-that-are-used-in-each-order-the-selection-rotates-seasonally-5).  These roasteries are much larger than a typical Starbucks store and have several additional features, including various food and wine options, along with upscale lounge areas.  You'll investigate the demographics of various counties in the state of California, to determine potentially suitable locations.\n",
    "\n",
    "<center>\n",
    "<img src=\"https://i.imgur.com/BIyE6kR.png\" width=\"450\"><br/><br/>\n",
    "</center>\n",
    "\n",
    "Before you get started, run the code cell below to set everything up."
   ]
  },
  {
   "cell_type": "code",
   "execution_count": 1,
   "metadata": {
    "execution": {
     "iopub.execute_input": "2022-05-22T13:59:24.902235Z",
     "iopub.status.busy": "2022-05-22T13:59:24.901691Z",
     "iopub.status.idle": "2022-05-22T13:59:27.004532Z",
     "shell.execute_reply": "2022-05-22T13:59:27.003744Z",
     "shell.execute_reply.started": "2022-05-22T13:59:24.902112Z"
    }
   },
   "outputs": [],
   "source": [
    "import math\n",
    "import pandas as pd\n",
    "import geopandas as gpd\n",
    "#from geopy.geocoders import Nominatim            # What you'd normally run\n",
    "from learntools.geospatial.tools import Nominatim # Just for this exercise\n",
    "\n",
    "import folium \n",
    "from folium import Marker\n",
    "from folium.plugins import MarkerCluster\n",
    "\n",
    "from learntools.core import binder\n",
    "binder.bind(globals())\n",
    "from learntools.geospatial.ex4 import *"
   ]
  },
  {
   "cell_type": "markdown",
   "metadata": {},
   "source": [
    "You'll use the `embed_map()` function from the previous exercise to visualize your maps."
   ]
  },
  {
   "cell_type": "code",
   "execution_count": 3,
   "metadata": {
    "execution": {
     "iopub.execute_input": "2022-05-22T14:00:09.368057Z",
     "iopub.status.busy": "2022-05-22T14:00:09.367772Z",
     "iopub.status.idle": "2022-05-22T14:00:09.373009Z",
     "shell.execute_reply": "2022-05-22T14:00:09.372174Z",
     "shell.execute_reply.started": "2022-05-22T14:00:09.368028Z"
    }
   },
   "outputs": [],
   "source": [
    "def embed_map(m, file_name):\n",
    "    from IPython.display import IFrame\n",
    "    m.save(file_name)\n",
    "    return IFrame(file_name, width='100%', height='500px')"
   ]
  },
  {
   "cell_type": "markdown",
   "metadata": {},
   "source": [
    "# Exercises\n",
    "\n",
    "### 1) Geocode the missing locations.\n",
    "\n",
    "Run the next code cell to create a DataFrame `starbucks` containing Starbucks locations in the state of California."
   ]
  },
  {
   "cell_type": "code",
   "execution_count": 4,
   "metadata": {
    "execution": {
     "iopub.execute_input": "2022-05-22T14:00:13.500564Z",
     "iopub.status.busy": "2022-05-22T14:00:13.499964Z",
     "iopub.status.idle": "2022-05-22T14:00:13.531300Z",
     "shell.execute_reply": "2022-05-22T14:00:13.530388Z",
     "shell.execute_reply.started": "2022-05-22T14:00:13.500524Z"
    }
   },
   "outputs": [],
   "source": [
    "# Load and preview Starbucks locations in California\n",
    "starbucks = pd.read_csv(\"../input/geospatial-learn-course-data/starbucks_locations.csv\")\n",
    "starbucks.head()"
   ]
  },
  {
   "cell_type": "markdown",
   "metadata": {},
   "source": [
    "Most of the stores have known (latitude, longitude) locations.  But, all of the locations in the city of Berkeley are missing."
   ]
  },
  {
   "cell_type": "code",
   "execution_count": 5,
   "metadata": {
    "execution": {
     "iopub.execute_input": "2022-05-22T14:00:17.035043Z",
     "iopub.status.busy": "2022-05-22T14:00:17.034727Z",
     "iopub.status.idle": "2022-05-22T14:00:17.053472Z",
     "shell.execute_reply": "2022-05-22T14:00:17.052887Z",
     "shell.execute_reply.started": "2022-05-22T14:00:17.035010Z"
    }
   },
   "outputs": [],
   "source": [
    "# How many rows in each column have missing values?\n",
    "print(starbucks.isnull().sum())\n",
    "\n",
    "# View rows with missing locations\n",
    "rows_with_missing = starbucks[starbucks[\"City\"]==\"Berkeley\"]\n",
    "rows_with_missing"
   ]
  },
  {
   "cell_type": "markdown",
   "metadata": {},
   "source": [
    "Use the code cell below to fill in these values with the Nominatim geocoder.\n",
    "\n",
    "Note that in the tutorial, we used `Nominatim()` (from `geopy.geocoders`) to geocode values, and this is what you can use in your own projects outside of this course.  \n",
    "\n",
    "In this exercise, you will use a slightly different function `Nominatim()` (from `learntools.geospatial.tools`).  This function was imported at the top of the notebook and works identically to the function from GeoPandas.\n",
    "\n",
    "So, in other words, as long as: \n",
    "- you don't change the import statements at the top of the notebook, and \n",
    "- you call the geocoding function as `geocode()` in the code cell below, \n",
    "\n",
    "your code will work as intended!"
   ]
  },
  {
   "cell_type": "code",
   "execution_count": 9,
   "metadata": {
    "execution": {
     "iopub.execute_input": "2022-05-22T14:09:25.797388Z",
     "iopub.status.busy": "2022-05-22T14:09:25.797078Z",
     "iopub.status.idle": "2022-05-22T14:09:26.088293Z",
     "shell.execute_reply": "2022-05-22T14:09:26.087437Z",
     "shell.execute_reply.started": "2022-05-22T14:09:25.797355Z"
    }
   },
   "outputs": [],
   "source": [
    "# Create the geocoder\n",
    "geolocator = Nominatim(user_agent=\"kaggle_learn\")\n",
    "\n",
    "# Your code here\n",
    "\n",
    "def my_geocoder(row):\n",
    "    try:\n",
    "        point = geolocator.geocode(row).point\n",
    "        return pd.Series({'Latitude': point.latitude, 'Longitude': point.longitude})\n",
    "    except:\n",
    "        return None\n",
    "\n",
    "# 여기서부턴 잘 모르겠어서 솔루션 참고했습니다.\n",
    "\n",
    "berkeley_locations = rows_with_missing.apply(lambda x: my_geocoder(x['Address']), axis=1)\n",
    "starbucks.update(berkeley_locations)\n",
    "\n",
    "# Check your answer\n",
    "q_1.check()"
   ]
  },
  {
   "cell_type": "code",
   "execution_count": 6,
   "metadata": {
    "execution": {
     "iopub.execute_input": "2022-05-22T14:01:43.496534Z",
     "iopub.status.busy": "2022-05-22T14:01:43.495933Z",
     "iopub.status.idle": "2022-05-22T14:01:43.503836Z",
     "shell.execute_reply": "2022-05-22T14:01:43.502922Z",
     "shell.execute_reply.started": "2022-05-22T14:01:43.496499Z"
    }
   },
   "outputs": [],
   "source": [
    "# Line below will give you solution code\n",
    "#q_1.solution()"
   ]
  },
  {
   "cell_type": "markdown",
   "metadata": {},
   "source": [
    "### 2) View Berkeley locations.\n",
    "\n",
    "Let's take a look at the locations you just found.  Visualize the (latitude, longitude) locations in Berkeley in the OpenStreetMap style. "
   ]
  },
  {
   "cell_type": "code",
   "execution_count": 11,
   "metadata": {
    "execution": {
     "iopub.execute_input": "2022-05-22T14:11:14.526863Z",
     "iopub.status.busy": "2022-05-22T14:11:14.526397Z",
     "iopub.status.idle": "2022-05-22T14:11:18.796461Z",
     "shell.execute_reply": "2022-05-22T14:11:18.795522Z",
     "shell.execute_reply.started": "2022-05-22T14:11:14.526829Z"
    }
   },
   "outputs": [],
   "source": [
    "# Create a base map\n",
    "m_2 = folium.Map(location=[37.88,-122.26], zoom_start=13)\n",
    "\n",
    "# Your code here: Add a marker for each Berkeley location\n",
    "for idx, row in starbucks.iterrows():\n",
    "    Marker([row['Latitude'], row['Longitude']], popup=row['Address']).add_to(m_2)\n",
    "# Uncomment to see a hint\n",
    "#q_2.a.hint()\n",
    "\n",
    "# Show the map\n",
    "embed_map(m_2, 'q_2.html')"
   ]
  },
  {
   "cell_type": "code",
   "execution_count": 12,
   "metadata": {
    "execution": {
     "iopub.execute_input": "2022-05-22T14:11:32.990679Z",
     "iopub.status.busy": "2022-05-22T14:11:32.990367Z",
     "iopub.status.idle": "2022-05-22T14:11:32.997371Z",
     "shell.execute_reply": "2022-05-22T14:11:32.996563Z",
     "shell.execute_reply.started": "2022-05-22T14:11:32.990647Z"
    }
   },
   "outputs": [],
   "source": [
    "# Get credit for your work after you have created a map\n",
    "q_2.a.check()\n",
    "\n",
    "# Uncomment to see our solution (your code may look different!)\n",
    "#q_2.a.solution()"
   ]
  },
  {
   "cell_type": "markdown",
   "metadata": {},
   "source": [
    "Considering only the five locations in Berkeley, how many of the (latitude, longitude) locations seem potentially correct (are located in the correct city)?"
   ]
  },
  {
   "cell_type": "code",
   "execution_count": 13,
   "metadata": {
    "execution": {
     "iopub.execute_input": "2022-05-22T14:11:40.079759Z",
     "iopub.status.busy": "2022-05-22T14:11:40.079355Z",
     "iopub.status.idle": "2022-05-22T14:11:40.087596Z",
     "shell.execute_reply": "2022-05-22T14:11:40.086957Z",
     "shell.execute_reply.started": "2022-05-22T14:11:40.079727Z"
    }
   },
   "outputs": [],
   "source": [
    "# View the solution (Run this code cell to receive credit!)\n",
    "q_2.b.solution()"
   ]
  },
  {
   "cell_type": "markdown",
   "metadata": {},
   "source": [
    "### 3) Consolidate your data.\n",
    "\n",
    "Run the code below to load a GeoDataFrame `CA_counties` containing the name, area (in square kilometers), and a unique id (in the \"GEOID\" column) for each county in the state of California.  The \"geometry\" column contains a polygon with county boundaries."
   ]
  },
  {
   "cell_type": "code",
   "execution_count": 14,
   "metadata": {
    "execution": {
     "iopub.execute_input": "2022-05-22T14:11:47.500359Z",
     "iopub.status.busy": "2022-05-22T14:11:47.500086Z",
     "iopub.status.idle": "2022-05-22T14:11:47.823075Z",
     "shell.execute_reply": "2022-05-22T14:11:47.822412Z",
     "shell.execute_reply.started": "2022-05-22T14:11:47.500332Z"
    }
   },
   "outputs": [],
   "source": [
    "CA_counties = gpd.read_file(\"../input/geospatial-learn-course-data/CA_county_boundaries/CA_county_boundaries/CA_county_boundaries.shp\")\n",
    "CA_counties.head()"
   ]
  },
  {
   "cell_type": "markdown",
   "metadata": {},
   "source": [
    "Next, we create three DataFrames:\n",
    "- `CA_pop` contains an estimate of the population of each county.\n",
    "- `CA_high_earners` contains the number of households with an income of at least $150,000 per year.\n",
    "- `CA_median_age` contains the median age for each county."
   ]
  },
  {
   "cell_type": "code",
   "execution_count": 15,
   "metadata": {
    "execution": {
     "iopub.execute_input": "2022-05-22T14:11:52.255832Z",
     "iopub.status.busy": "2022-05-22T14:11:52.255547Z",
     "iopub.status.idle": "2022-05-22T14:11:52.269600Z",
     "shell.execute_reply": "2022-05-22T14:11:52.268693Z",
     "shell.execute_reply.started": "2022-05-22T14:11:52.255799Z"
    }
   },
   "outputs": [],
   "source": [
    "CA_pop = pd.read_csv(\"../input/geospatial-learn-course-data/CA_county_population.csv\", index_col=\"GEOID\")\n",
    "CA_high_earners = pd.read_csv(\"../input/geospatial-learn-course-data/CA_county_high_earners.csv\", index_col=\"GEOID\")\n",
    "CA_median_age = pd.read_csv(\"../input/geospatial-learn-course-data/CA_county_median_age.csv\", index_col=\"GEOID\")"
   ]
  },
  {
   "cell_type": "markdown",
   "metadata": {},
   "source": [
    "Use the next code cell to join the `CA_counties` GeoDataFrame with `CA_pop`, `CA_high_earners`, and `CA_median_age`.\n",
    "\n",
    "Name the resultant GeoDataFrame `CA_stats`, and make sure it has 8 columns: \"GEOID\", \"name\", \"area_sqkm\", \"geometry\", \"population\", \"high_earners\", and \"median_age\".  Also, make sure the CRS is set to `{'init': 'epsg:4326'}`."
   ]
  },
  {
   "cell_type": "code",
   "execution_count": 19,
   "metadata": {
    "execution": {
     "iopub.execute_input": "2022-05-22T14:14:58.895288Z",
     "iopub.status.busy": "2022-05-22T14:14:58.894715Z",
     "iopub.status.idle": "2022-05-22T14:14:58.944609Z",
     "shell.execute_reply": "2022-05-22T14:14:58.943612Z",
     "shell.execute_reply.started": "2022-05-22T14:14:58.895238Z"
    }
   },
   "outputs": [],
   "source": [
    "print(CA_counties.head(2))\n",
    "print(CA_pop.head(2))\n",
    "print(CA_high_earners.head(2))\n",
    "print(CA_median_age.head(2))"
   ]
  },
  {
   "cell_type": "code",
   "execution_count": 28,
   "metadata": {
    "execution": {
     "iopub.execute_input": "2022-05-22T14:26:56.532015Z",
     "iopub.status.busy": "2022-05-22T14:26:56.531714Z",
     "iopub.status.idle": "2022-05-22T14:26:56.810187Z",
     "shell.execute_reply": "2022-05-22T14:26:56.809327Z",
     "shell.execute_reply.started": "2022-05-22T14:26:56.531984Z"
    }
   },
   "outputs": [],
   "source": [
    "# Your code here\n",
    "CA_stats = CA_counties.merge(CA_pop, on = \"GEOID\").merge(CA_high_earners, on = \"GEOID\").merge(\n",
    "CA_median_age,on = \"GEOID\")\n",
    "\n",
    "CA_stats.crs = {'init': 'epsg:4326'}\n",
    "\n",
    "# Check your answer\n",
    "q_3.check()"
   ]
  },
  {
   "cell_type": "code",
   "execution_count": 22,
   "metadata": {
    "execution": {
     "iopub.execute_input": "2022-05-22T14:18:09.643485Z",
     "iopub.status.busy": "2022-05-22T14:18:09.643050Z",
     "iopub.status.idle": "2022-05-22T14:18:09.650758Z",
     "shell.execute_reply": "2022-05-22T14:18:09.649944Z",
     "shell.execute_reply.started": "2022-05-22T14:18:09.643446Z"
    }
   },
   "outputs": [],
   "source": [
    "# Lines below will give you a hint or solution code\n",
    "#q_3.hint()\n",
    "#q_3.solution()"
   ]
  },
  {
   "cell_type": "markdown",
   "metadata": {},
   "source": [
    "Now that we have all of the data in one place, it's much easier to calculate statistics that use a combination of columns.  Run the next code cell to create a \"density\" column with the population density."
   ]
  },
  {
   "cell_type": "code",
   "execution_count": 33,
   "metadata": {
    "execution": {
     "iopub.execute_input": "2022-05-22T14:28:13.962908Z",
     "iopub.status.busy": "2022-05-22T14:28:13.961970Z",
     "iopub.status.idle": "2022-05-22T14:28:13.967369Z",
     "shell.execute_reply": "2022-05-22T14:28:13.966817Z",
     "shell.execute_reply.started": "2022-05-22T14:28:13.962823Z"
    }
   },
   "outputs": [],
   "source": [
    "CA_stats[\"density\"] = CA_stats[\"population\"] / CA_stats[\"area_sqkm\"]"
   ]
  },
  {
   "cell_type": "markdown",
   "metadata": {},
   "source": [
    "### 4) Which counties look promising?\n",
    "\n",
    "Collapsing all of the information into a single GeoDataFrame also makes it much easier to select counties that meet specific criteria.\n",
    "\n",
    "Use the next code cell to create a GeoDataFrame `sel_counties` that contains a subset of the rows (and all of the columns) from the `CA_stats` GeoDataFrame.  In particular, you should select counties where:\n",
    "- there are at least 100,000 households making \\$150,000 per year,\n",
    "- the median age is less than 38.5, and\n",
    "- the density of inhabitants is at least 285 (per square kilometer).\n",
    "\n",
    "Additionally, selected counties should satisfy at least one of the following criteria:\n",
    "- there are at least 500,000 households making \\$150,000 per year,\n",
    "- the median age is less than 35.5, or\n",
    "- the density of inhabitants is at least 1400 (per square kilometer)."
   ]
  },
  {
   "cell_type": "code",
   "execution_count": 34,
   "metadata": {
    "execution": {
     "iopub.execute_input": "2022-05-22T14:28:16.651896Z",
     "iopub.status.busy": "2022-05-22T14:28:16.651598Z",
     "iopub.status.idle": "2022-05-22T14:28:16.670257Z",
     "shell.execute_reply": "2022-05-22T14:28:16.669459Z",
     "shell.execute_reply.started": "2022-05-22T14:28:16.651850Z"
    }
   },
   "outputs": [],
   "source": [
    "# Your code here\n",
    "sel_counties = CA_stats[((CA_stats.high_earners > 100000) &\n",
    "                         (CA_stats.median_age < 38.5) &\n",
    "                         (CA_stats.density > 285) &\n",
    "                         ((CA_stats.median_age < 35.5) |\n",
    "                         (CA_stats.density > 1400) |\n",
    "                         (CA_stats.high_earners > 500000)))]\n",
    "\n",
    "# Check your answer\n",
    "q_4.check()"
   ]
  },
  {
   "cell_type": "code",
   "execution_count": 23,
   "metadata": {
    "execution": {
     "iopub.execute_input": "2022-05-22T14:20:41.848209Z",
     "iopub.status.busy": "2022-05-22T14:20:41.847427Z",
     "iopub.status.idle": "2022-05-22T14:20:41.855646Z",
     "shell.execute_reply": "2022-05-22T14:20:41.854944Z",
     "shell.execute_reply.started": "2022-05-22T14:20:41.848128Z"
    }
   },
   "outputs": [],
   "source": [
    "# Lines below will give you a hint or solution code\n",
    "#q_4.hint()\n",
    "#q_4.solution()"
   ]
  },
  {
   "cell_type": "markdown",
   "metadata": {},
   "source": [
    "### 5) How many stores did you identify?\n",
    "\n",
    "When looking for the next Starbucks Reserve Roastery location, you'd like to consider all of the stores within the counties that you selected.  So, how many stores are within the selected counties?\n",
    "\n",
    "To prepare to answer this question, run the next code cell to create a GeoDataFrame `starbucks_gdf` with all of the starbucks locations."
   ]
  },
  {
   "cell_type": "code",
   "execution_count": 35,
   "metadata": {
    "execution": {
     "iopub.execute_input": "2022-05-22T14:28:40.854525Z",
     "iopub.status.busy": "2022-05-22T14:28:40.853467Z",
     "iopub.status.idle": "2022-05-22T14:28:40.872260Z",
     "shell.execute_reply": "2022-05-22T14:28:40.871430Z",
     "shell.execute_reply.started": "2022-05-22T14:28:40.854481Z"
    }
   },
   "outputs": [],
   "source": [
    "starbucks_gdf = gpd.GeoDataFrame(starbucks, geometry=gpd.points_from_xy(starbucks.Longitude, starbucks.Latitude))\n",
    "starbucks_gdf.crs = {'init': 'epsg:4326'}"
   ]
  },
  {
   "cell_type": "markdown",
   "metadata": {},
   "source": [
    "So, how many stores are in the counties you selected?"
   ]
  },
  {
   "cell_type": "code",
   "execution_count": 37,
   "metadata": {
    "execution": {
     "iopub.execute_input": "2022-05-22T14:31:48.629352Z",
     "iopub.status.busy": "2022-05-22T14:31:48.629032Z",
     "iopub.status.idle": "2022-05-22T14:31:48.742849Z",
     "shell.execute_reply": "2022-05-22T14:31:48.742106Z",
     "shell.execute_reply.started": "2022-05-22T14:31:48.629317Z"
    }
   },
   "outputs": [],
   "source": [
    "# Fill in your answer\n",
    "a = gpd.sjoin(starbucks_gdf, sel_counties)\n",
    "num_stores = len(a)\n",
    "\n",
    "# Check your answer\n",
    "q_5.check()"
   ]
  },
  {
   "cell_type": "code",
   "execution_count": 36,
   "metadata": {
    "execution": {
     "iopub.execute_input": "2022-05-22T14:29:52.029650Z",
     "iopub.status.busy": "2022-05-22T14:29:52.028363Z",
     "iopub.status.idle": "2022-05-22T14:29:52.037360Z",
     "shell.execute_reply": "2022-05-22T14:29:52.036583Z",
     "shell.execute_reply.started": "2022-05-22T14:29:52.029611Z"
    }
   },
   "outputs": [],
   "source": [
    "# Lines below will give you a hint or solution code\n",
    "#q_5.hint()\n",
    "#q_5.solution()"
   ]
  },
  {
   "cell_type": "markdown",
   "metadata": {},
   "source": [
    "### 6) Visualize the store locations.\n",
    "\n",
    "Create a map that shows the locations of the stores that you identified in the previous question."
   ]
  },
  {
   "cell_type": "code",
   "execution_count": 39,
   "metadata": {
    "execution": {
     "iopub.execute_input": "2022-05-22T14:34:15.134588Z",
     "iopub.status.busy": "2022-05-22T14:34:15.133804Z",
     "iopub.status.idle": "2022-05-22T14:34:16.125716Z",
     "shell.execute_reply": "2022-05-22T14:34:16.124843Z",
     "shell.execute_reply.started": "2022-05-22T14:34:15.134542Z"
    }
   },
   "outputs": [],
   "source": [
    "# Create a base map\n",
    "m_6 = folium.Map(location=[37,-120], zoom_start=6)\n",
    "\n",
    "# Your code here: show selected store locations\n",
    "mc = MarkerCluster()\n",
    "for idx, row in a.iterrows():\n",
    "    if not math.isnan(row['Longitude']) and not math.isnan(row['Latitude']):\n",
    "        mc.add_child(Marker([row['Latitude'], row['Longitude']]))\n",
    "m_6.add_child(mc)\n",
    "\n",
    "# Uncomment to see a hint\n",
    "#q_6.hint()\n",
    "\n",
    "# Show the map\n",
    "embed_map(m_6, 'q_6.html')"
   ]
  },
  {
   "cell_type": "code",
   "execution_count": 40,
   "metadata": {
    "execution": {
     "iopub.execute_input": "2022-05-22T14:34:56.222036Z",
     "iopub.status.busy": "2022-05-22T14:34:56.221744Z",
     "iopub.status.idle": "2022-05-22T14:34:56.229624Z",
     "shell.execute_reply": "2022-05-22T14:34:56.228863Z",
     "shell.execute_reply.started": "2022-05-22T14:34:56.222008Z"
    }
   },
   "outputs": [],
   "source": [
    "# Get credit for your work after you have created a map\n",
    "q_6.check()\n",
    "\n",
    "# Uncomment to see our solution (your code may look different!)\n",
    "#q_6.solution()"
   ]
  },
  {
   "cell_type": "markdown",
   "metadata": {},
   "source": [
    "# Keep going\n",
    "\n",
    "Learn about how **[proximity analysis](https://www.kaggle.com/alexisbcook/proximity-analysis)** can help you to understand the relationships between points on a map."
   ]
  },
  {
   "cell_type": "markdown",
   "metadata": {},
   "source": [
    "---\n",
    "\n",
    "\n",
    "\n",
    "\n",
    "*Have questions or comments? Visit the [course discussion forum](https://www.kaggle.com/learn/geospatial-analysis/discussion) to chat with other learners.*"
   ]
  }
 ],
 "metadata": {
  "kernelspec": {
   "display_name": "Python 3",
   "language": "python",
   "name": "python3"
  },
  "language_info": {
   "codemirror_mode": {
    "name": "ipython",
    "version": 3
   },
   "file_extension": ".py",
   "mimetype": "text/x-python",
   "name": "python",
   "nbconvert_exporter": "python",
   "pygments_lexer": "ipython3",
   "version": "3.8.5"
  }
 },
 "nbformat": 4,
 "nbformat_minor": 4
}
