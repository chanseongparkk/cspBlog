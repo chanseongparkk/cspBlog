{
 "cells": [
  {
   "cell_type": "markdown",
   "metadata": {},
   "source": [
    "# \"geopandas exercise5\"\n",
    "> \"출처 : https://www.kaggle.com/learn/geospatial-analysis\"\n",
    "\n",
    "- toc: true\n",
    "- branch: master\n",
    "- badges: true\n",
    "- comments: true\n",
    "- author: Chanseong Park\n",
    "- categories: [jupyter, python]"
   ]
  },
  {
   "cell_type": "markdown",
   "metadata": {},
   "source": [
    "**This notebook is an exercise in the [Geospatial Analysis](https://www.kaggle.com/learn/geospatial-analysis) course.  You can reference the tutorial at [this link](https://www.kaggle.com/alexisbcook/proximity-analysis).**\n",
    "\n",
    "---\n"
   ]
  },
  {
   "cell_type": "markdown",
   "metadata": {},
   "source": [
    "# Introduction \n",
    "\n",
    "You are part of a crisis response team, and you want to identify how hospitals have been responding to crash collisions in New York City.\n",
    "\n",
    "<center>\n",
    "<img src=\"https://i.imgur.com/wamd0n7.png\" width=\"450\"><br/>\n",
    "</center>\n",
    "\n",
    "Before you get started, run the code cell below to set everything up."
   ]
  },
  {
   "cell_type": "code",
   "execution_count": 4,
   "metadata": {
    "execution": {
     "iopub.execute_input": "2022-05-26T03:57:12.653242Z",
     "iopub.status.busy": "2022-05-26T03:57:12.652811Z",
     "iopub.status.idle": "2022-05-26T03:57:50.235900Z",
     "shell.execute_reply": "2022-05-26T03:57:50.234857Z",
     "shell.execute_reply.started": "2022-05-26T03:57:12.653206Z"
    }
   },
   "outputs": [],
   "source": [
    "import math\n",
    "import geopandas as gpd\n",
    "import pandas as pd\n",
    "from shapely.geometry import MultiPolygon\n",
    "\n",
    "import folium\n",
    "from folium import Choropleth, Marker\n",
    "from folium.plugins import HeatMap, MarkerCluster\n",
    "\n",
    "from learntools.core import binder\n",
    "binder.bind(globals())\n",
    "from learntools.geospatial.ex5 import *"
   ]
  },
  {
   "cell_type": "markdown",
   "metadata": {},
   "source": [
    "You'll use the `embed_map()` function to visualize your maps."
   ]
  },
  {
   "cell_type": "code",
   "execution_count": 8,
   "metadata": {
    "execution": {
     "iopub.execute_input": "2022-05-26T03:57:50.284962Z",
     "iopub.status.busy": "2022-05-26T03:57:50.284387Z",
     "iopub.status.idle": "2022-05-26T03:57:50.295378Z",
     "shell.execute_reply": "2022-05-26T03:57:50.294672Z",
     "shell.execute_reply.started": "2022-05-26T03:57:50.284913Z"
    }
   },
   "outputs": [],
   "source": [
    "def embed_map(m, file_name):\n",
    "    from IPython.display import IFrame\n",
    "    m.save(file_name)\n",
    "    return IFrame(file_name, width='100%', height='500px')"
   ]
  },
  {
   "cell_type": "markdown",
   "metadata": {},
   "source": [
    "# Exercises\n",
    "\n",
    "### 1) Visualize the collision data.\n",
    "\n",
    "Run the code cell below to load a GeoDataFrame `collisions` tracking major motor vehicle collisions in 2013-2018."
   ]
  },
  {
   "cell_type": "code",
   "execution_count": 9,
   "metadata": {
    "execution": {
     "iopub.execute_input": "2022-05-26T03:57:50.297041Z",
     "iopub.status.busy": "2022-05-26T03:57:50.296453Z",
     "iopub.status.idle": "2022-05-26T03:58:24.642651Z",
     "shell.execute_reply": "2022-05-26T03:58:24.641362Z",
     "shell.execute_reply.started": "2022-05-26T03:57:50.297006Z"
    }
   },
   "outputs": [],
   "source": [
    "collisions = gpd.read_file(\"../input/geospatial-learn-course-data/NYPD_Motor_Vehicle_Collisions/NYPD_Motor_Vehicle_Collisions/NYPD_Motor_Vehicle_Collisions.shp\")\n",
    "collisions.head()"
   ]
  },
  {
   "cell_type": "markdown",
   "metadata": {},
   "source": [
    "Use the \"LATITUDE\" and \"LONGITUDE\" columns to create an interactive map to visualize the collision data.  What type of map do you think is most effective?"
   ]
  },
  {
   "cell_type": "code",
   "execution_count": 12,
   "metadata": {
    "execution": {
     "iopub.execute_input": "2022-05-26T03:59:03.363148Z",
     "iopub.status.busy": "2022-05-26T03:59:03.362758Z",
     "iopub.status.idle": "2022-05-26T03:59:08.984266Z",
     "shell.execute_reply": "2022-05-26T03:59:08.982894Z",
     "shell.execute_reply.started": "2022-05-26T03:59:03.363118Z"
    }
   },
   "outputs": [],
   "source": [
    "m_1 = folium.Map(location=[40.7, -74], zoom_start=11) \n",
    "\n",
    "# Your code here: Visualize the collision data\n",
    "HeatMap(data=collisions[['LATITUDE', 'LONGITUDE']]).add_to(m_1)\n",
    "# Uncomment to see a hint\n",
    "#q_1.hint()\n",
    "\n",
    "# Show the map\n",
    "embed_map(m_1, \"q_1.html\")"
   ]
  },
  {
   "cell_type": "code",
   "execution_count": null,
   "metadata": {
    "execution": {
     "iopub.execute_input": "2022-05-26T03:59:20.760049Z",
     "iopub.status.busy": "2022-05-26T03:59:20.759558Z",
     "iopub.status.idle": "2022-05-26T03:59:20.768357Z",
     "shell.execute_reply": "2022-05-26T03:59:20.767492Z",
     "shell.execute_reply.started": "2022-05-26T03:59:20.760013Z"
    }
   },
   "outputs": [],
   "source": [
    "# Get credit for your work after you have created a map\n",
    "#q_1.check()\n",
    "\n",
    "# Uncomment to see our solution (your code may look different!)\n",
    "#q_1.solution()"
   ]
  },
  {
   "cell_type": "markdown",
   "metadata": {},
   "source": [
    "### 2) Understand hospital coverage.\n",
    "\n",
    "Run the next code cell to load the hospital data."
   ]
  },
  {
   "cell_type": "code",
   "execution_count": 14,
   "metadata": {
    "execution": {
     "iopub.execute_input": "2022-05-26T03:59:23.055128Z",
     "iopub.status.busy": "2022-05-26T03:59:23.054582Z",
     "iopub.status.idle": "2022-05-26T03:59:23.222157Z",
     "shell.execute_reply": "2022-05-26T03:59:23.221066Z",
     "shell.execute_reply.started": "2022-05-26T03:59:23.055090Z"
    }
   },
   "outputs": [],
   "source": [
    "hospitals = gpd.read_file(\"../input/geospatial-learn-course-data/nyu_2451_34494/nyu_2451_34494/nyu_2451_34494.shp\")\n",
    "hospitals.head()"
   ]
  },
  {
   "cell_type": "markdown",
   "metadata": {},
   "source": [
    "Use the \"latitude\" and \"longitude\" columns to visualize the hospital locations. "
   ]
  },
  {
   "cell_type": "code",
   "execution_count": 16,
   "metadata": {
    "execution": {
     "iopub.execute_input": "2022-05-26T04:00:16.759983Z",
     "iopub.status.busy": "2022-05-26T04:00:16.759542Z",
     "iopub.status.idle": "2022-05-26T04:00:16.888565Z",
     "shell.execute_reply": "2022-05-26T04:00:16.887487Z",
     "shell.execute_reply.started": "2022-05-26T04:00:16.759951Z"
    }
   },
   "outputs": [],
   "source": [
    "m_2 = folium.Map(location=[40.7, -74], zoom_start=11) \n",
    "\n",
    "# Your code here: Visualize the hospital locations\n",
    "for idx, row in hospitals.iterrows():\n",
    "    Marker([row['latitude'], row['longitude']], popup=row['name']).add_to(m_2)\n",
    "\n",
    "# Uncomment to see a hint\n",
    "#q_2.hint()\n",
    "        \n",
    "# Show the map\n",
    "embed_map(m_2, \"q_2.html\")"
   ]
  },
  {
   "cell_type": "code",
   "execution_count": 17,
   "metadata": {
    "execution": {
     "iopub.execute_input": "2022-05-26T04:00:39.763665Z",
     "iopub.status.busy": "2022-05-26T04:00:39.763230Z",
     "iopub.status.idle": "2022-05-26T04:00:39.772155Z",
     "shell.execute_reply": "2022-05-26T04:00:39.771351Z",
     "shell.execute_reply.started": "2022-05-26T04:00:39.763631Z"
    }
   },
   "outputs": [],
   "source": [
    "# Get credit for your work after you have created a map\n",
    "#q_2.check()\n",
    "\n",
    "# Uncomment to see our solution (your code may look different!)\n",
    "#q_2.solution()"
   ]
  },
  {
   "cell_type": "markdown",
   "metadata": {},
   "source": [
    "### 3) When was the closest hospital more than 10 kilometers away?\n",
    "\n",
    "Create a DataFrame `outside_range` containing all rows from `collisions` with crashes that occurred more than 10 kilometers from the closest hospital.\n",
    "\n",
    "Note that both `hospitals` and `collisions` have EPSG 2263 as the coordinate reference system, and EPSG 2263 has units of meters."
   ]
  },
  {
   "cell_type": "code",
   "execution_count": 23,
   "metadata": {
    "execution": {
     "iopub.execute_input": "2022-05-26T04:05:14.118094Z",
     "iopub.status.busy": "2022-05-26T04:05:14.117557Z",
     "iopub.status.idle": "2022-05-26T04:06:37.808358Z",
     "shell.execute_reply": "2022-05-26T04:06:37.807536Z",
     "shell.execute_reply.started": "2022-05-26T04:05:14.118056Z"
    }
   },
   "outputs": [],
   "source": [
    "#잘 모르겠어서 솔루션 참고했습니다.\n",
    "# Your code here\n",
    "coverage = gpd.GeoDataFrame(geometry=hospitals.geometry).buffer(10000)\n",
    "my_union = coverage.geometry.unary_union\n",
    "outside_range = collisions.loc[~collisions[\"geometry\"].apply(lambda x: my_union.contains(x))]\n",
    "\n",
    "# Check your answer\n",
    "#q_3.check()"
   ]
  },
  {
   "cell_type": "code",
   "execution_count": 19,
   "metadata": {
    "execution": {
     "iopub.execute_input": "2022-05-26T04:00:53.522006Z",
     "iopub.status.busy": "2022-05-26T04:00:53.521571Z",
     "iopub.status.idle": "2022-05-26T04:00:53.529196Z",
     "shell.execute_reply": "2022-05-26T04:00:53.528493Z",
     "shell.execute_reply.started": "2022-05-26T04:00:53.521974Z"
    }
   },
   "outputs": [],
   "source": [
    "# Lines below will give you a hint or solution code\n",
    "#q_3.hint()\n",
    "#q_3.solution()"
   ]
  },
  {
   "cell_type": "markdown",
   "metadata": {},
   "source": [
    "The next code cell calculates the percentage of collisions that occurred more than 10 kilometers away from the closest hospital."
   ]
  },
  {
   "cell_type": "code",
   "execution_count": 24,
   "metadata": {
    "execution": {
     "iopub.execute_input": "2022-05-26T04:06:58.194840Z",
     "iopub.status.busy": "2022-05-26T04:06:58.194430Z",
     "iopub.status.idle": "2022-05-26T04:06:58.201035Z",
     "shell.execute_reply": "2022-05-26T04:06:58.199830Z",
     "shell.execute_reply.started": "2022-05-26T04:06:58.194806Z"
    }
   },
   "outputs": [],
   "source": [
    "percentage = round(100*len(outside_range)/len(collisions), 2)\n",
    "print(\"Percentage of collisions more than 10 km away from the closest hospital: {}%\".format(percentage))"
   ]
  },
  {
   "cell_type": "markdown",
   "metadata": {},
   "source": [
    "### 4) Make a recommender.\n",
    "\n",
    "When collisions occur in distant locations, it becomes even more vital that injured persons are transported to the nearest available hospital.\n",
    "\n",
    "With this in mind, you decide to create a recommender that:\n",
    "- takes the location of the crash (in EPSG 2263) as input,\n",
    "- finds the closest hospital (where distance calculations are done in EPSG 2263), and \n",
    "- returns the name of the closest hospital. "
   ]
  },
  {
   "cell_type": "code",
   "execution_count": 26,
   "metadata": {
    "execution": {
     "iopub.execute_input": "2022-05-26T04:09:07.443352Z",
     "iopub.status.busy": "2022-05-26T04:09:07.442954Z",
     "iopub.status.idle": "2022-05-26T04:09:07.460431Z",
     "shell.execute_reply": "2022-05-26T04:09:07.459559Z",
     "shell.execute_reply.started": "2022-05-26T04:09:07.443320Z"
    }
   },
   "outputs": [],
   "source": [
    "def best_hospital(collision_location):\n",
    "    # Your code here\n",
    "    min = hospitals.geometry.distance(collision_location).idxmin()\n",
    "    min_h = hospitals.iloc[min]\n",
    "    name = min_h[\"name\"]\n",
    "    return name\n",
    "\n",
    "# Test your function: this should suggest CALVARY HOSPITAL INC\n",
    "print(best_hospital(outside_range.geometry.iloc[0]))\n",
    "\n",
    "# Check your answer\n",
    "#q_4.check()"
   ]
  },
  {
   "cell_type": "code",
   "execution_count": 25,
   "metadata": {
    "execution": {
     "iopub.execute_input": "2022-05-26T04:07:06.214595Z",
     "iopub.status.busy": "2022-05-26T04:07:06.214212Z",
     "iopub.status.idle": "2022-05-26T04:07:06.224073Z",
     "shell.execute_reply": "2022-05-26T04:07:06.223311Z",
     "shell.execute_reply.started": "2022-05-26T04:07:06.214552Z"
    }
   },
   "outputs": [],
   "source": [
    "# Lines below will give you a hint or solution code\n",
    "#q_4.hint()\n",
    "#q_4.solution()"
   ]
  },
  {
   "cell_type": "markdown",
   "metadata": {},
   "source": [
    "### 5) Which hospital is under the highest demand?\n",
    "\n",
    "Considering only collisions in the `outside_range` DataFrame, which hospital is most recommended?  \n",
    "\n",
    "Your answer should be a Python string that exactly matches the name of the hospital returned by the function you created in **4)**."
   ]
  },
  {
   "cell_type": "code",
   "execution_count": 36,
   "metadata": {
    "execution": {
     "iopub.execute_input": "2022-05-26T04:15:02.771204Z",
     "iopub.status.busy": "2022-05-26T04:15:02.770819Z",
     "iopub.status.idle": "2022-05-26T04:15:28.649955Z",
     "shell.execute_reply": "2022-05-26T04:15:28.648695Z",
     "shell.execute_reply.started": "2022-05-26T04:15:02.771173Z"
    }
   },
   "outputs": [],
   "source": [
    "# Your code here\n",
    "count = outside_range.geometry.apply(best_hospital).value_counts()\n",
    "highest_demand = count.idxmax()\n",
    "highest_demand\n",
    "# Check your answer\n",
    "#q_5.check()"
   ]
  },
  {
   "cell_type": "code",
   "execution_count": 29,
   "metadata": {
    "execution": {
     "iopub.execute_input": "2022-05-26T04:10:06.981650Z",
     "iopub.status.busy": "2022-05-26T04:10:06.981254Z",
     "iopub.status.idle": "2022-05-26T04:10:06.991380Z",
     "shell.execute_reply": "2022-05-26T04:10:06.989946Z",
     "shell.execute_reply.started": "2022-05-26T04:10:06.981620Z"
    }
   },
   "outputs": [],
   "source": [
    "# Lines below will give you a hint or solution code\n",
    "#q_5.hint()\n",
    "#q_5.solution()"
   ]
  },
  {
   "cell_type": "markdown",
   "metadata": {},
   "source": [
    "### 6) Where should the city construct new hospitals?\n",
    "\n",
    "Run the next code cell (without changes) to visualize hospital locations, in addition to collisions that occurred more than 10 kilometers away from the closest hospital. "
   ]
  },
  {
   "cell_type": "code",
   "execution_count": 37,
   "metadata": {
    "execution": {
     "iopub.execute_input": "2022-05-26T04:15:39.639757Z",
     "iopub.status.busy": "2022-05-26T04:15:39.639357Z",
     "iopub.status.idle": "2022-05-26T04:15:40.774812Z",
     "shell.execute_reply": "2022-05-26T04:15:40.773668Z",
     "shell.execute_reply.started": "2022-05-26T04:15:39.639727Z"
    },
    "scrolled": true
   },
   "outputs": [],
   "source": [
    "m_6 = folium.Map(location=[40.7, -74], zoom_start=11) \n",
    "\n",
    "coverage = gpd.GeoDataFrame(geometry=hospitals.geometry).buffer(10000)\n",
    "folium.GeoJson(coverage.geometry.to_crs(epsg=4326)).add_to(m_6)\n",
    "HeatMap(data=outside_range[['LATITUDE', 'LONGITUDE']], radius=9).add_to(m_6)\n",
    "folium.LatLngPopup().add_to(m_6)\n",
    "\n",
    "embed_map(m_6, 'm_6.html')"
   ]
  },
  {
   "cell_type": "markdown",
   "metadata": {},
   "source": [
    "Click anywhere on the map to see a pop-up with the corresponding location in latitude and longitude.\n",
    "\n",
    "The city of New York reaches out to you for help with deciding locations for two brand new hospitals.  They specifically want your help with identifying locations to bring the calculated percentage from step **3)** to less than ten percent.  Using the map (and without worrying about zoning laws or what potential buildings would have to be removed in order to build the hospitals), can you identify two locations that would help the city accomplish this goal?  \n",
    "\n",
    "Put the proposed latitude and longitude for hospital 1 in `lat_1` and `long_1`, respectively.  (Likewise for hospital 2.)\n",
    "\n",
    "Then, run the rest of the cell as-is to see the effect of the new hospitals.  Your answer will be marked correct, if the two new hospitals bring the percentage to less than ten percent."
   ]
  },
  {
   "cell_type": "code",
   "execution_count": 47,
   "metadata": {
    "execution": {
     "iopub.execute_input": "2022-05-26T04:26:26.773821Z",
     "iopub.status.busy": "2022-05-26T04:26:26.773014Z",
     "iopub.status.idle": "2022-05-26T04:26:32.610196Z",
     "shell.execute_reply": "2022-05-26T04:26:32.608930Z",
     "shell.execute_reply.started": "2022-05-26T04:26:26.773781Z"
    }
   },
   "outputs": [],
   "source": [
    "# Your answer here: proposed location of hospital 1\n",
    "lat_1 = 40.6797\n",
    "long_1 = -73.7580\n",
    "\n",
    "# Your answer here: proposed location of hospital 2\n",
    "lat_2 = 40.6694\n",
    "long_2 = -73.8705\n",
    "\n",
    "\n",
    "# Do not modify the code below this line\n",
    "try:\n",
    "    new_df = pd.DataFrame(\n",
    "        {'Latitude': [lat_1, lat_2],\n",
    "         'Longitude': [long_1, long_2]})\n",
    "    new_gdf = gpd.GeoDataFrame(new_df, geometry=gpd.points_from_xy(new_df.Longitude, new_df.Latitude))\n",
    "    new_gdf.crs = {'init' :'epsg:4326'}\n",
    "    new_gdf = new_gdf.to_crs(epsg=2263)\n",
    "    # get new percentage\n",
    "    new_coverage = gpd.GeoDataFrame(geometry=new_gdf.geometry).buffer(10000)\n",
    "    new_my_union = new_coverage.geometry.unary_union\n",
    "    new_outside_range = outside_range.loc[~outside_range[\"geometry\"].apply(lambda x: new_my_union.contains(x))]\n",
    "    new_percentage = round(100*len(new_outside_range)/len(collisions), 2)\n",
    "    print(\"(NEW) Percentage of collisions more than 10 km away from the closest hospital: {}%\".format(new_percentage))\n",
    "    # Did you help the city to meet its goal?\n",
    "    q_6.check()\n",
    "    # make the map\n",
    "    m = folium.Map(location=[40.7, -74], zoom_start=11) \n",
    "    folium.GeoJson(coverage.geometry.to_crs(epsg=4326)).add_to(m)\n",
    "    folium.GeoJson(new_coverage.geometry.to_crs(epsg=4326)).add_to(m)\n",
    "    for idx, row in new_gdf.iterrows():\n",
    "        Marker([row['Latitude'], row['Longitude']]).add_to(m)\n",
    "    HeatMap(data=new_outside_range[['LATITUDE', 'LONGITUDE']], radius=9).add_to(m)\n",
    "    folium.LatLngPopup().add_to(m)\n",
    "    display(embed_map(m, 'q_6.html'))\n",
    "except:\n",
    "    #q_6.hint()"
   ]
  },
  {
   "cell_type": "code",
   "execution_count": 48,
   "metadata": {
    "execution": {
     "iopub.execute_input": "2022-05-26T04:26:41.924446Z",
     "iopub.status.busy": "2022-05-26T04:26:41.924056Z",
     "iopub.status.idle": "2022-05-26T04:26:41.929415Z",
     "shell.execute_reply": "2022-05-26T04:26:41.928593Z",
     "shell.execute_reply.started": "2022-05-26T04:26:41.924416Z"
    }
   },
   "outputs": [],
   "source": [
    "# Uncomment to see one potential answer \n",
    "#q_6.solution()"
   ]
  },
  {
   "cell_type": "markdown",
   "metadata": {},
   "source": [
    "# Congratulations!\n",
    "\n",
    "You have just completed the Geospatial Analysis micro-course!  Great job!"
   ]
  },
  {
   "cell_type": "markdown",
   "metadata": {},
   "source": [
    "---\n",
    "\n",
    "\n",
    "\n",
    "\n",
    "*Have questions or comments? Visit the [course discussion forum](https://www.kaggle.com/learn/geospatial-analysis/discussion) to chat with other learners.*"
   ]
  }
 ],
 "metadata": {
  "kernelspec": {
   "display_name": "Python 3",
   "language": "python",
   "name": "python3"
  },
  "language_info": {
   "codemirror_mode": {
    "name": "ipython",
    "version": 3
   },
   "file_extension": ".py",
   "mimetype": "text/x-python",
   "name": "python",
   "nbconvert_exporter": "python",
   "pygments_lexer": "ipython3",
   "version": "3.8.5"
  }
 },
 "nbformat": 4,
 "nbformat_minor": 4
}
