{
 "cells": [
  {
   "cell_type": "markdown",
   "metadata": {},
   "source": [
    "# \"Basic Python\"\n",
    "> \"python 기초 코드 실습\"\n",
    "\n",
    "- toc:true\n",
    "- branch: master\n",
    "- badges: true\n",
    "- comments: true\n",
    "- author: Chanseong Park\n",
    "- categories: [jupyter, python]"
   ]
  },
  {
   "cell_type": "code",
   "execution_count": null,
   "metadata": {},
   "outputs": [],
   "source": [
    "a = [1,2,3]\n",
    "b = a"
   ]
  },
  {
   "cell_type": "code",
   "execution_count": null,
   "metadata": {},
   "outputs": [],
   "source": [
    "a.append(4) # a에 4를 붙인다.\n",
    "b     #b를 a에 저장 후 a값이 변하면 b의 값도 따라 변한다"
   ]
  },
  {
   "cell_type": "markdown",
   "metadata": {},
   "source": [
    "##### 대,소문자로 변경"
   ]
  },
  {
   "cell_type": "code",
   "execution_count": null,
   "metadata": {},
   "outputs": [],
   "source": [
    "a = \"foo\"\n",
    "print(a.capitalize()) #앞문자만 대문자 \n",
    "a = a.upper() # 대문자로 변경\n",
    "print(a)"
   ]
  },
  {
   "cell_type": "code",
   "execution_count": null,
   "metadata": {},
   "outputs": [],
   "source": [
    "a = a.lower() # 소문자로 변경\n",
    "a"
   ]
  },
  {
   "cell_type": "markdown",
   "metadata": {},
   "source": [
    "##### 모듈\n",
    "\n",
    "* 개발자들은 일반적으로 결과물을 만들때 모듈 단위로 저장한다.\n",
    "* 모듈을 불러오면 각 모듈에서 저장한 기능을 파이썬에서 사용 가능하다.\n",
    "* ipynb 파일을 py 파일로 저장하면 모듈로 저장이 가능하다."
   ]
  },
  {
   "cell_type": "markdown",
   "metadata": {},
   "source": [
    "###### some_module\n",
    "\n",
    "PI = 3.14159\n",
    "\n",
    "def f(x): \n",
    "    return x+2\n",
    "\n",
    "def g(a,b):\n",
    "    return a+b\n"
   ]
  },
  {
   "cell_type": "code",
   "execution_count": 12,
   "metadata": {},
   "outputs": [
    {
     "name": "stdout",
     "output_type": "stream",
     "text": [
      "9\n",
      "3\n"
     ]
    }
   ],
   "source": [
    "import some_module\n",
    "\n",
    "print(some_module.f(7))\n",
    "print(some_module.g(1,2))"
   ]
  },
  {
   "cell_type": "code",
   "execution_count": 13,
   "metadata": {},
   "outputs": [
    {
     "data": {
      "text/plain": [
       "3.14159"
      ]
     },
     "execution_count": 13,
     "metadata": {},
     "output_type": "execute_result"
    }
   ],
   "source": [
    "some_module.PI"
   ]
  },
  {
   "cell_type": "code",
   "execution_count": null,
   "metadata": {},
   "outputs": [],
   "source": [
    "#some_module 안의 일부 함수만을 불러올 수 있다.\n",
    "from some_module import f, g, PI\n",
    "f(g(1,PI))"
   ]
  },
  {
   "cell_type": "code",
   "execution_count": null,
   "metadata": {},
   "outputs": [],
   "source": [
    "# 함수명을 변경해서 사용할 수 있다,\n",
    "import some_module as sm\n",
    "sm.f(3)"
   ]
  },
  {
   "cell_type": "markdown",
   "metadata": {},
   "source": [
    "##### 리스트와 튜플"
   ]
  },
  {
   "cell_type": "code",
   "execution_count": null,
   "metadata": {},
   "outputs": [],
   "source": [
    "# 리스트\n",
    "a_list = [\"foo\",1,2,[3,4]] #리스트는 여러 type를 저장할 수 있다. 또한 원소를 변경 및 삽입할 수 있다.\n",
    "print(a_list)\n",
    "print(a_list[3])"
   ]
  },
  {
   "cell_type": "code",
   "execution_count": null,
   "metadata": {},
   "outputs": [],
   "source": [
    "# 튜플\n",
    "a_tuple = (2,3,(4,5),\"hello\")\n",
    "print(a_tuple)\n",
    "a_tuple[1] = \"hello\" #튜플은 원소의 삭제, 변경, 삽입이 불가능하다"
   ]
  },
  {
   "cell_type": "markdown",
   "metadata": {},
   "source": [
    "##### STRING Type"
   ]
  },
  {
   "cell_type": "code",
   "execution_count": null,
   "metadata": {},
   "outputs": [],
   "source": [
    "# 문자열의 덧셈은 문자열을 붙여준다.\n",
    "a = \"This is the first half\"\n",
    "b = \"and this is the second half\"\n",
    "a + b "
   ]
  },
  {
   "cell_type": "code",
   "execution_count": null,
   "metadata": {},
   "outputs": [],
   "source": [
    "# 여러 줄의 문자열을 쓰고싶으면\"\"\"을 사용한다\n",
    "c = \"\"\"\n",
    "hello world\n",
    "i'm Chanseong Park\n",
    "\"\"\"\n",
    "\n",
    "c"
   ]
  },
  {
   "cell_type": "code",
   "execution_count": null,
   "metadata": {},
   "outputs": [],
   "source": [
    "# \\n의 갯수도 찾을 수 있다.(줄 갯수)\n",
    "c.count(\"\\n\")"
   ]
  },
  {
   "cell_type": "code",
   "execution_count": null,
   "metadata": {},
   "outputs": [],
   "source": [
    "# 문자열을 입력값으로 자유롭게 바꿀 수 있다.\n",
    "template = \"{0:.2f} {1:s} are worth US${2:d}\"\n",
    "template"
   ]
  },
  {
   "cell_type": "code",
   "execution_count": null,
   "metadata": {},
   "outputs": [],
   "source": [
    "print(template.format(1234.56,\"won\",1))\n",
    "print(template.format(130,\"yen\",1))"
   ]
  },
  {
   "cell_type": "markdown",
   "metadata": {},
   "source": [
    "##### None\n",
    "* R의 NULL 개념과 유사하다.\n",
    "* 빈 공간을 생성하는 것이다."
   ]
  },
  {
   "cell_type": "code",
   "execution_count": null,
   "metadata": {},
   "outputs": [],
   "source": [
    "a = None\n",
    "a is None"
   ]
  },
  {
   "cell_type": "code",
   "execution_count": null,
   "metadata": {},
   "outputs": [],
   "source": [
    "b = 5\n",
    "b is None"
   ]
  },
  {
   "cell_type": "code",
   "execution_count": null,
   "metadata": {},
   "outputs": [],
   "source": [
    "# None 사용 예시\n",
    "\n",
    "def add_and_maybe_multiply(a,b,c=None):\n",
    "    \n",
    "    if(c != None):\n",
    "        x = (a+b)*c\n",
    "    else:\n",
    "        x = a+b\n",
    "    \n",
    "    return x\n",
    "    "
   ]
  },
  {
   "cell_type": "code",
   "execution_count": null,
   "metadata": {},
   "outputs": [],
   "source": [
    "print(add_and_maybe_multiply(1,2))\n",
    "print(add_and_maybe_multiply(1,2,10))"
   ]
  },
  {
   "cell_type": "markdown",
   "metadata": {},
   "source": [
    "#####  break, countinue, pass\n",
    "\n",
    "* 반복문에 사용하는 제어문"
   ]
  },
  {
   "cell_type": "code",
   "execution_count": null,
   "metadata": {},
   "outputs": [],
   "source": [
    "# 조건에 맞으면 무한으로 돌아가는 while문이나 반복문인 for문이 특정 조건을 만족하면 멈추도록 break문을 사용한다.\n",
    "\n",
    "x = 256\n",
    "total = 0\n",
    "\n",
    "while(x > 0):\n",
    "    if(total>500): #total이 500이 넘으면 while문 탈출\n",
    "        break\n",
    "    total += x  #total은 while문이 한 번 돌때마다 x와 더해진 값으로 저장 \n",
    "    x = x//2  #x는 while문이 힌 번 돌때마다 2로 나눈 몫으로 저장\n",
    "\n",
    "total"
   ]
  },
  {
   "cell_type": "code",
   "execution_count": null,
   "metadata": {},
   "outputs": [],
   "source": [
    "256+128+64+32+16+8"
   ]
  },
  {
   "cell_type": "code",
   "execution_count": 2,
   "metadata": {},
   "outputs": [],
   "source": [
    "# continue문\n",
    "\n",
    "seq = [1,2,3,None,5,6,None,8,9]\n",
    "tot = 0\n",
    "\n",
    "for i in seq:\n",
    "    if i == None: #i가 None이면 그냥 넘어간다. 이렇게 하지 않으면 None값의 연산은 불가능하기에 에러가 뜬다.\n",
    "        continue\n",
    "    else:\n",
    "        tot += i\n",
    "    \n",
    "    \n",
    "\n"
   ]
  },
  {
   "cell_type": "code",
   "execution_count": 3,
   "metadata": {},
   "outputs": [
    {
     "data": {
      "text/plain": [
       "34"
      ]
     },
     "execution_count": 3,
     "metadata": {},
     "output_type": "execute_result"
    }
   ],
   "source": [
    "tot"
   ]
  },
  {
   "cell_type": "code",
   "execution_count": 6,
   "metadata": {},
   "outputs": [
    {
     "name": "stdout",
     "output_type": "stream",
     "text": [
      "x를 입력하세요:\n",
      "0\n"
     ]
    }
   ],
   "source": [
    "# pass문\n",
    "print(\"x를 입력하세요:\")\n",
    "x = int(input())\n",
    "\n",
    "if x < 0 :\n",
    "    print(\"negative\")\n",
    "elif x == 0 :    #x가 0이면 아무것도 나오지 않는다.\n",
    "    pass\n",
    "else:\n",
    "    print(\"positive\")\n",
    "\n"
   ]
  },
  {
   "cell_type": "markdown",
   "metadata": {},
   "source": [
    "##### 파이썬 삼항연산자\n",
    "* [true_value] if [condition] else [false_value]"
   ]
  },
  {
   "cell_type": "code",
   "execution_count": 8,
   "metadata": {},
   "outputs": [
    {
     "name": "stdout",
     "output_type": "stream",
     "text": [
      "0\n",
      "1\n"
     ]
    }
   ],
   "source": [
    "aa = 0\n",
    "\n",
    "bb = 1 if aa ==0 else aa # aa가 0이면 bb는 1이고 aa가 0이 아니라면 bb는 aa값을 갖는다\n",
    "\n",
    "print(aa)\n",
    "print(bb)"
   ]
  },
  {
   "cell_type": "code",
   "execution_count": 9,
   "metadata": {},
   "outputs": [
    {
     "name": "stdout",
     "output_type": "stream",
     "text": [
      "60\n",
      "60\n"
     ]
    }
   ],
   "source": [
    "aa = 60\n",
    "\n",
    "bb = 1 if aa ==0 else aa # aa가 0이면 bb는 1이고 aa가 0이 아니라면 bb는 aa값을 갖는다\n",
    "\n",
    "print(aa)\n",
    "print(bb)"
   ]
  },
  {
   "cell_type": "code",
   "execution_count": 10,
   "metadata": {},
   "outputs": [
    {
     "name": "stdout",
     "output_type": "stream",
     "text": [
      "100\n",
      "20\n"
     ]
    }
   ],
   "source": [
    "aa = 100\n",
    "\n",
    "bb = 15 if aa > 150 else 20 # aa가 150 이상이면 bb는 15이고 aa가 150이상이 아니라면 bb는 20의 값을 갖는다\n",
    "\n",
    "print(aa)\n",
    "print(bb)"
   ]
  }
 ],
 "metadata": {
  "kernelspec": {
   "display_name": "Python 3",
   "language": "python",
   "name": "python3"
  },
  "language_info": {
   "codemirror_mode": {
    "name": "ipython",
    "version": 3
   },
   "file_extension": ".py",
   "mimetype": "text/x-python",
   "name": "python",
   "nbconvert_exporter": "python",
   "pygments_lexer": "ipython3",
   "version": "3.8.5"
  }
 },
 "nbformat": 4,
 "nbformat_minor": 4
}
